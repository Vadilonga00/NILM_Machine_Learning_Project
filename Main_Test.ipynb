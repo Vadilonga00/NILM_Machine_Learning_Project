{
 "cells": [
  {
   "cell_type": "code",
   "execution_count": 17,
   "id": "fa13ac8c",
   "metadata": {},
   "outputs": [],
   "source": [
    "import pandas as pd\n",
    "import numpy as np\n",
    "import seaborn as sns\n",
    "import matplotlib.pyplot as plt\n",
    "from mpl_toolkits.mplot3d import Axes3D\n",
    "from sklearn.model_selection import GridSearchCV\n",
    "from sklearn.ensemble import RandomForestClassifier\n",
    "from imblearn.under_sampling import RandomUnderSampler\n",
    "from sklearn.metrics import confusion_matrix, classification_report, recall_score,f1_score\n",
    "from joblib import dump, load"
   ]
  },
  {
   "cell_type": "code",
   "execution_count": 18,
   "id": "51972a3d",
   "metadata": {},
   "outputs": [],
   "source": [
    "data=pd.read_csv('25day_dataset.csv')"
   ]
  },
  {
   "cell_type": "code",
   "execution_count": 19,
   "id": "ba5b7b93",
   "metadata": {},
   "outputs": [],
   "source": [
    "label=[]\n",
    "for i in range(len(data)):\n",
    "    if data['wahing_machine'].iloc[i] == 0 and data['oven'].iloc[i] == 0 and data['dishwasher'].iloc[i] == 0:\n",
    "        label.append(0)\n",
    "    elif data['wahing_machine'].iloc[i] != 0 and data['oven'].iloc[i] == 0 and data['dishwasher'].iloc[i] == 0:\n",
    "        label.append(1)\n",
    "    elif data['wahing_machine'].iloc[i] == 0 and data['oven'].iloc[i] != 0 and data['dishwasher'].iloc[i] == 0:\n",
    "        label.append(2)\n",
    "    else:\n",
    "        data['wahing_machine'].iloc[i] == 0 and data['oven'].iloc[i] == 0 and data['dishwasher'].iloc[i] != 0\n",
    "        label.append(3)\n",
    "data['classe']=label"
   ]
  },
  {
   "cell_type": "code",
   "execution_count": 20,
   "id": "1199e574",
   "metadata": {},
   "outputs": [],
   "source": [
    "Test_set1 =data.loc[(data['DateTime']>='2022-01-01') & (data['DateTime']<'2022-01-02')]\n",
    "Test_set2 =data.loc[(data['DateTime']>='2022-01-02') & (data['DateTime']<'2022-01-03')]\n",
    "Test_set3 =data.loc[(data['DateTime']>='2022-01-03') & (data['DateTime']<'2022-01-04')]\n",
    "Test_set4 =data.loc[(data['DateTime']>='2022-01-04') & (data['DateTime']<'2022-01-05')]\n",
    "Test_set5 =data.loc[(data['DateTime']>='2022-01-05') & (data['DateTime']<'2022-01-06')]\n",
    "Test_set6 =data.loc[(data['DateTime']>='2022-01-06') & (data['DateTime']<'2022-01-07')]\n",
    "Test_set7 =data.loc[(data['DateTime']>='2022-01-07') & (data['DateTime']<'2022-01-08')]\n",
    "Test_set8 =data.loc[(data['DateTime']>='2022-01-08') & (data['DateTime']<'2022-01-09')]\n",
    "Test_set9 =data.loc[(data['DateTime']>='2022-01-10') & (data['DateTime']<'2022-01-12')]\n",
    "Test_set10 =data.loc[(data['DateTime']>='2022-01-12') & (data['DateTime']<'2022-01-13 03:17:00')]"
   ]
  },
  {
   "cell_type": "markdown",
   "id": "62c9e22e",
   "metadata": {},
   "source": [
    "Si carichino i modelli salvati e si eseguono i test per ogni fold."
   ]
  },
  {
   "cell_type": "code",
   "execution_count": 21,
   "id": "3b217d97",
   "metadata": {},
   "outputs": [
    {
     "name": "stderr",
     "output_type": "stream",
     "text": [
      "C:\\Users\\Utente\\anaconda3\\lib\\site-packages\\sklearn\\metrics\\_classification.py:1334: UndefinedMetricWarning: Recall is ill-defined and being set to 0.0 in labels with no true samples. Use `zero_division` parameter to control this behavior.\n",
      "  _warn_prf(average, modifier, msg_start, len(result))\n",
      "C:\\Users\\Utente\\anaconda3\\lib\\site-packages\\sklearn\\metrics\\_classification.py:1334: UndefinedMetricWarning: Recall and F-score are ill-defined and being set to 0.0 in labels with no true samples. Use `zero_division` parameter to control this behavior.\n",
      "  _warn_prf(average, modifier, msg_start, len(result))\n",
      "C:\\Users\\Utente\\anaconda3\\lib\\site-packages\\sklearn\\metrics\\_classification.py:1334: UndefinedMetricWarning: Recall and F-score are ill-defined and being set to 0.0 in labels with no true samples. Use `zero_division` parameter to control this behavior.\n",
      "  _warn_prf(average, modifier, msg_start, len(result))\n",
      "C:\\Users\\Utente\\anaconda3\\lib\\site-packages\\sklearn\\metrics\\_classification.py:1334: UndefinedMetricWarning: Recall and F-score are ill-defined and being set to 0.0 in labels with no true samples. Use `zero_division` parameter to control this behavior.\n",
      "  _warn_prf(average, modifier, msg_start, len(result))\n"
     ]
    },
    {
     "name": "stdout",
     "output_type": "stream",
     "text": [
      "CM:\n",
      "[[79419   489    15  1742]\n",
      " [  100  3953     0     0]\n",
      " [  143     0   539     0]\n",
      " [    0     0     0     0]]\n",
      "\n",
      "              precision    recall  f1-score   support\n",
      "\n",
      "           0       1.00      0.97      0.98     81665\n",
      "           1       0.89      0.98      0.93      4053\n",
      "           2       0.97      0.79      0.87       682\n",
      "           3       0.00      0.00      0.00         0\n",
      "\n",
      "    accuracy                           0.97     86400\n",
      "   macro avg       0.71      0.68      0.70     86400\n",
      "weighted avg       0.99      0.97      0.98     86400\n",
      "\n"
     ]
    },
    {
     "name": "stderr",
     "output_type": "stream",
     "text": [
      "C:\\Users\\Utente\\anaconda3\\lib\\site-packages\\sklearn\\metrics\\_classification.py:1334: UndefinedMetricWarning: Recall is ill-defined and being set to 0.0 in labels with no true samples. Use `zero_division` parameter to control this behavior.\n",
      "  _warn_prf(average, modifier, msg_start, len(result))\n",
      "C:\\Users\\Utente\\anaconda3\\lib\\site-packages\\sklearn\\metrics\\_classification.py:1334: UndefinedMetricWarning: Recall and F-score are ill-defined and being set to 0.0 in labels with no true samples. Use `zero_division` parameter to control this behavior.\n",
      "  _warn_prf(average, modifier, msg_start, len(result))\n",
      "C:\\Users\\Utente\\anaconda3\\lib\\site-packages\\sklearn\\metrics\\_classification.py:1334: UndefinedMetricWarning: Recall and F-score are ill-defined and being set to 0.0 in labels with no true samples. Use `zero_division` parameter to control this behavior.\n",
      "  _warn_prf(average, modifier, msg_start, len(result))\n",
      "C:\\Users\\Utente\\anaconda3\\lib\\site-packages\\sklearn\\metrics\\_classification.py:1334: UndefinedMetricWarning: Recall and F-score are ill-defined and being set to 0.0 in labels with no true samples. Use `zero_division` parameter to control this behavior.\n",
      "  _warn_prf(average, modifier, msg_start, len(result))\n"
     ]
    },
    {
     "name": "stdout",
     "output_type": "stream",
     "text": [
      "CM:\n",
      "[[76745   917   135   472]\n",
      " [  474  6533     0     1]\n",
      " [   58     0  1065     0]\n",
      " [    0     0     0     0]]\n",
      "\n",
      "              precision    recall  f1-score   support\n",
      "\n",
      "           0       0.99      0.98      0.99     78269\n",
      "           1       0.88      0.93      0.90      7008\n",
      "           2       0.89      0.95      0.92      1123\n",
      "           3       0.00      0.00      0.00         0\n",
      "\n",
      "    accuracy                           0.98     86400\n",
      "   macro avg       0.69      0.72      0.70     86400\n",
      "weighted avg       0.98      0.98      0.98     86400\n",
      "\n",
      "CM:\n",
      "[[78189   920   821  1165]\n",
      " [   47   967    10     0]\n",
      " [    0     1   703     0]\n",
      " [  375   126     0  3076]]\n",
      "\n",
      "              precision    recall  f1-score   support\n",
      "\n",
      "           0       0.99      0.96      0.98     81095\n",
      "           1       0.48      0.94      0.64      1024\n",
      "           2       0.46      1.00      0.63       704\n",
      "           3       0.73      0.86      0.79      3577\n",
      "\n",
      "    accuracy                           0.96     86400\n",
      "   macro avg       0.66      0.94      0.76     86400\n",
      "weighted avg       0.97      0.96      0.96     86400\n",
      "\n"
     ]
    },
    {
     "name": "stderr",
     "output_type": "stream",
     "text": [
      "C:\\Users\\Utente\\anaconda3\\lib\\site-packages\\sklearn\\metrics\\_classification.py:1334: UndefinedMetricWarning: Recall is ill-defined and being set to 0.0 in labels with no true samples. Use `zero_division` parameter to control this behavior.\n",
      "  _warn_prf(average, modifier, msg_start, len(result))\n",
      "C:\\Users\\Utente\\anaconda3\\lib\\site-packages\\sklearn\\metrics\\_classification.py:1334: UndefinedMetricWarning: Recall and F-score are ill-defined and being set to 0.0 in labels with no true samples. Use `zero_division` parameter to control this behavior.\n",
      "  _warn_prf(average, modifier, msg_start, len(result))\n",
      "C:\\Users\\Utente\\anaconda3\\lib\\site-packages\\sklearn\\metrics\\_classification.py:1334: UndefinedMetricWarning: Recall and F-score are ill-defined and being set to 0.0 in labels with no true samples. Use `zero_division` parameter to control this behavior.\n",
      "  _warn_prf(average, modifier, msg_start, len(result))\n",
      "C:\\Users\\Utente\\anaconda3\\lib\\site-packages\\sklearn\\metrics\\_classification.py:1334: UndefinedMetricWarning: Recall and F-score are ill-defined and being set to 0.0 in labels with no true samples. Use `zero_division` parameter to control this behavior.\n",
      "  _warn_prf(average, modifier, msg_start, len(result))\n"
     ]
    },
    {
     "name": "stdout",
     "output_type": "stream",
     "text": [
      "CM:\n",
      "[[80334   206   242   973]\n",
      " [    0     0     0     0]\n",
      " [  379  1341  2923     2]\n",
      " [    0     0     0     0]]\n",
      "\n",
      "              precision    recall  f1-score   support\n",
      "\n",
      "           0       1.00      0.98      0.99     81755\n",
      "           1       0.00      0.00      0.00         0\n",
      "           2       0.92      0.63      0.75      4645\n",
      "           3       0.00      0.00      0.00         0\n",
      "\n",
      "    accuracy                           0.96     86400\n",
      "   macro avg       0.48      0.40      0.43     86400\n",
      "weighted avg       0.99      0.96      0.98     86400\n",
      "\n"
     ]
    },
    {
     "name": "stderr",
     "output_type": "stream",
     "text": [
      "C:\\Users\\Utente\\anaconda3\\lib\\site-packages\\sklearn\\metrics\\_classification.py:1334: UndefinedMetricWarning: Recall is ill-defined and being set to 0.0 in labels with no true samples. Use `zero_division` parameter to control this behavior.\n",
      "  _warn_prf(average, modifier, msg_start, len(result))\n",
      "C:\\Users\\Utente\\anaconda3\\lib\\site-packages\\sklearn\\metrics\\_classification.py:1334: UndefinedMetricWarning: Recall and F-score are ill-defined and being set to 0.0 in labels with no true samples. Use `zero_division` parameter to control this behavior.\n",
      "  _warn_prf(average, modifier, msg_start, len(result))\n",
      "C:\\Users\\Utente\\anaconda3\\lib\\site-packages\\sklearn\\metrics\\_classification.py:1334: UndefinedMetricWarning: Recall and F-score are ill-defined and being set to 0.0 in labels with no true samples. Use `zero_division` parameter to control this behavior.\n",
      "  _warn_prf(average, modifier, msg_start, len(result))\n",
      "C:\\Users\\Utente\\anaconda3\\lib\\site-packages\\sklearn\\metrics\\_classification.py:1334: UndefinedMetricWarning: Recall and F-score are ill-defined and being set to 0.0 in labels with no true samples. Use `zero_division` parameter to control this behavior.\n",
      "  _warn_prf(average, modifier, msg_start, len(result))\n"
     ]
    },
    {
     "name": "stdout",
     "output_type": "stream",
     "text": [
      "CM:\n",
      "[[81698   697     4   336]\n",
      " [   89  3576     0     0]\n",
      " [    0     0     0     0]\n",
      " [    0     0     0     0]]\n",
      "\n",
      "              precision    recall  f1-score   support\n",
      "\n",
      "           0       1.00      0.99      0.99     82735\n",
      "           1       0.84      0.98      0.90      3665\n",
      "           2       0.00      0.00      0.00         0\n",
      "           3       0.00      0.00      0.00         0\n",
      "\n",
      "    accuracy                           0.99     86400\n",
      "   macro avg       0.46      0.49      0.47     86400\n",
      "weighted avg       0.99      0.99      0.99     86400\n",
      "\n"
     ]
    },
    {
     "name": "stderr",
     "output_type": "stream",
     "text": [
      "C:\\Users\\Utente\\anaconda3\\lib\\site-packages\\sklearn\\metrics\\_classification.py:1334: UndefinedMetricWarning: Recall is ill-defined and being set to 0.0 in labels with no true samples. Use `zero_division` parameter to control this behavior.\n",
      "  _warn_prf(average, modifier, msg_start, len(result))\n",
      "C:\\Users\\Utente\\anaconda3\\lib\\site-packages\\sklearn\\metrics\\_classification.py:1334: UndefinedMetricWarning: Recall and F-score are ill-defined and being set to 0.0 in labels with no true samples. Use `zero_division` parameter to control this behavior.\n",
      "  _warn_prf(average, modifier, msg_start, len(result))\n",
      "C:\\Users\\Utente\\anaconda3\\lib\\site-packages\\sklearn\\metrics\\_classification.py:1334: UndefinedMetricWarning: Recall and F-score are ill-defined and being set to 0.0 in labels with no true samples. Use `zero_division` parameter to control this behavior.\n",
      "  _warn_prf(average, modifier, msg_start, len(result))\n",
      "C:\\Users\\Utente\\anaconda3\\lib\\site-packages\\sklearn\\metrics\\_classification.py:1334: UndefinedMetricWarning: Recall and F-score are ill-defined and being set to 0.0 in labels with no true samples. Use `zero_division` parameter to control this behavior.\n",
      "  _warn_prf(average, modifier, msg_start, len(result))\n"
     ]
    },
    {
     "name": "stdout",
     "output_type": "stream",
     "text": [
      "CM:\n",
      "[[81204  1004    21   193]\n",
      " [    0     0     0     0]\n",
      " [    0     0     0     0]\n",
      " [   36    35     0  3907]]\n",
      "\n",
      "              precision    recall  f1-score   support\n",
      "\n",
      "           0       1.00      0.99      0.99     82422\n",
      "           1       0.00      0.00      0.00         0\n",
      "           2       0.00      0.00      0.00         0\n",
      "           3       0.95      0.98      0.97      3978\n",
      "\n",
      "    accuracy                           0.99     86400\n",
      "   macro avg       0.49      0.49      0.49     86400\n",
      "weighted avg       1.00      0.99      0.99     86400\n",
      "\n"
     ]
    },
    {
     "name": "stderr",
     "output_type": "stream",
     "text": [
      "C:\\Users\\Utente\\anaconda3\\lib\\site-packages\\sklearn\\metrics\\_classification.py:1334: UndefinedMetricWarning: Recall is ill-defined and being set to 0.0 in labels with no true samples. Use `zero_division` parameter to control this behavior.\n",
      "  _warn_prf(average, modifier, msg_start, len(result))\n",
      "C:\\Users\\Utente\\anaconda3\\lib\\site-packages\\sklearn\\metrics\\_classification.py:1334: UndefinedMetricWarning: Recall and F-score are ill-defined and being set to 0.0 in labels with no true samples. Use `zero_division` parameter to control this behavior.\n",
      "  _warn_prf(average, modifier, msg_start, len(result))\n",
      "C:\\Users\\Utente\\anaconda3\\lib\\site-packages\\sklearn\\metrics\\_classification.py:1334: UndefinedMetricWarning: Recall and F-score are ill-defined and being set to 0.0 in labels with no true samples. Use `zero_division` parameter to control this behavior.\n",
      "  _warn_prf(average, modifier, msg_start, len(result))\n",
      "C:\\Users\\Utente\\anaconda3\\lib\\site-packages\\sklearn\\metrics\\_classification.py:1334: UndefinedMetricWarning: Recall and F-score are ill-defined and being set to 0.0 in labels with no true samples. Use `zero_division` parameter to control this behavior.\n",
      "  _warn_prf(average, modifier, msg_start, len(result))\n"
     ]
    },
    {
     "name": "stdout",
     "output_type": "stream",
     "text": [
      "CM:\n",
      "[[79736   573   118   529]\n",
      " [  200  3057     1     0]\n",
      " [  648     2  1518    18]\n",
      " [    0     0     0     0]]\n",
      "\n",
      "              precision    recall  f1-score   support\n",
      "\n",
      "           0       0.99      0.98      0.99     80956\n",
      "           1       0.84      0.94      0.89      3258\n",
      "           2       0.93      0.69      0.79      2186\n",
      "           3       0.00      0.00      0.00         0\n",
      "\n",
      "    accuracy                           0.98     86400\n",
      "   macro avg       0.69      0.65      0.67     86400\n",
      "weighted avg       0.98      0.98      0.98     86400\n",
      "\n"
     ]
    },
    {
     "name": "stderr",
     "output_type": "stream",
     "text": [
      "C:\\Users\\Utente\\anaconda3\\lib\\site-packages\\sklearn\\metrics\\_classification.py:1334: UndefinedMetricWarning: Recall is ill-defined and being set to 0.0 in labels with no true samples. Use `zero_division` parameter to control this behavior.\n",
      "  _warn_prf(average, modifier, msg_start, len(result))\n",
      "C:\\Users\\Utente\\anaconda3\\lib\\site-packages\\sklearn\\metrics\\_classification.py:1334: UndefinedMetricWarning: Recall and F-score are ill-defined and being set to 0.0 in labels with no true samples. Use `zero_division` parameter to control this behavior.\n",
      "  _warn_prf(average, modifier, msg_start, len(result))\n",
      "C:\\Users\\Utente\\anaconda3\\lib\\site-packages\\sklearn\\metrics\\_classification.py:1334: UndefinedMetricWarning: Recall and F-score are ill-defined and being set to 0.0 in labels with no true samples. Use `zero_division` parameter to control this behavior.\n",
      "  _warn_prf(average, modifier, msg_start, len(result))\n",
      "C:\\Users\\Utente\\anaconda3\\lib\\site-packages\\sklearn\\metrics\\_classification.py:1334: UndefinedMetricWarning: Recall and F-score are ill-defined and being set to 0.0 in labels with no true samples. Use `zero_division` parameter to control this behavior.\n",
      "  _warn_prf(average, modifier, msg_start, len(result))\n"
     ]
    },
    {
     "name": "stdout",
     "output_type": "stream",
     "text": [
      "CM:\n",
      "[[79152   455   193  1639]\n",
      " [   90  4065     0     0]\n",
      " [  496    53   257     0]\n",
      " [    0     0     0     0]]\n",
      "\n",
      "              precision    recall  f1-score   support\n",
      "\n",
      "           0       0.99      0.97      0.98     81439\n",
      "           1       0.89      0.98      0.93      4155\n",
      "           2       0.57      0.32      0.41       806\n",
      "           3       0.00      0.00      0.00         0\n",
      "\n",
      "    accuracy                           0.97     86400\n",
      "   macro avg       0.61      0.57      0.58     86400\n",
      "weighted avg       0.98      0.97      0.97     86400\n",
      "\n"
     ]
    },
    {
     "name": "stderr",
     "output_type": "stream",
     "text": [
      "C:\\Users\\Utente\\anaconda3\\lib\\site-packages\\sklearn\\metrics\\_classification.py:1334: UndefinedMetricWarning: Recall is ill-defined and being set to 0.0 in labels with no true samples. Use `zero_division` parameter to control this behavior.\n",
      "  _warn_prf(average, modifier, msg_start, len(result))\n",
      "C:\\Users\\Utente\\anaconda3\\lib\\site-packages\\sklearn\\metrics\\_classification.py:1334: UndefinedMetricWarning: Recall and F-score are ill-defined and being set to 0.0 in labels with no true samples. Use `zero_division` parameter to control this behavior.\n",
      "  _warn_prf(average, modifier, msg_start, len(result))\n",
      "C:\\Users\\Utente\\anaconda3\\lib\\site-packages\\sklearn\\metrics\\_classification.py:1334: UndefinedMetricWarning: Recall and F-score are ill-defined and being set to 0.0 in labels with no true samples. Use `zero_division` parameter to control this behavior.\n",
      "  _warn_prf(average, modifier, msg_start, len(result))\n",
      "C:\\Users\\Utente\\anaconda3\\lib\\site-packages\\sklearn\\metrics\\_classification.py:1334: UndefinedMetricWarning: Recall and F-score are ill-defined and being set to 0.0 in labels with no true samples. Use `zero_division` parameter to control this behavior.\n",
      "  _warn_prf(average, modifier, msg_start, len(result))\n"
     ]
    },
    {
     "name": "stdout",
     "output_type": "stream",
     "text": [
      "CM:\n",
      "[[166005    946    599    681]\n",
      " [   123   2667      0      0]\n",
      " [   597      0   1182      0]\n",
      " [     0      0      0      0]]\n",
      "\n",
      "              precision    recall  f1-score   support\n",
      "\n",
      "           0       1.00      0.99      0.99    168231\n",
      "           1       0.74      0.96      0.83      2790\n",
      "           2       0.66      0.66      0.66      1779\n",
      "           3       0.00      0.00      0.00         0\n",
      "\n",
      "    accuracy                           0.98    172800\n",
      "   macro avg       0.60      0.65      0.62    172800\n",
      "weighted avg       0.99      0.98      0.99    172800\n",
      "\n",
      "CM:\n",
      "[[89734   498   278  1943]\n",
      " [  262  4099     0     0]\n",
      " [   36     1  1369     0]\n",
      " [    0     0     0     0]]\n",
      "\n",
      "              precision    recall  f1-score   support\n",
      "\n",
      "           0       1.00      0.97      0.98     92453\n",
      "           1       0.89      0.94      0.92      4361\n",
      "           2       0.83      0.97      0.90      1406\n",
      "           3       0.00      0.00      0.00         0\n",
      "\n",
      "    accuracy                           0.97     98220\n",
      "   macro avg       0.68      0.72      0.70     98220\n",
      "weighted avg       0.99      0.97      0.98     98220\n",
      "\n",
      "F1_score_Class:\n",
      "0    0.986898\n",
      "1    0.867367\n",
      "2    0.741262\n",
      "3    0.877110\n",
      "dtype: float64\n",
      "\n",
      "Recall_Class:\n",
      "0    0.978671\n",
      "1    0.955010\n",
      "2    0.752239\n",
      "3    0.921045\n",
      "dtype: float64\n"
     ]
    },
    {
     "name": "stderr",
     "output_type": "stream",
     "text": [
      "C:\\Users\\Utente\\anaconda3\\lib\\site-packages\\sklearn\\metrics\\_classification.py:1334: UndefinedMetricWarning: Recall is ill-defined and being set to 0.0 in labels with no true samples. Use `zero_division` parameter to control this behavior.\n",
      "  _warn_prf(average, modifier, msg_start, len(result))\n",
      "C:\\Users\\Utente\\anaconda3\\lib\\site-packages\\sklearn\\metrics\\_classification.py:1334: UndefinedMetricWarning: Recall and F-score are ill-defined and being set to 0.0 in labels with no true samples. Use `zero_division` parameter to control this behavior.\n",
      "  _warn_prf(average, modifier, msg_start, len(result))\n",
      "C:\\Users\\Utente\\anaconda3\\lib\\site-packages\\sklearn\\metrics\\_classification.py:1334: UndefinedMetricWarning: Recall and F-score are ill-defined and being set to 0.0 in labels with no true samples. Use `zero_division` parameter to control this behavior.\n",
      "  _warn_prf(average, modifier, msg_start, len(result))\n",
      "C:\\Users\\Utente\\anaconda3\\lib\\site-packages\\sklearn\\metrics\\_classification.py:1334: UndefinedMetricWarning: Recall and F-score are ill-defined and being set to 0.0 in labels with no true samples. Use `zero_division` parameter to control this behavior.\n",
      "  _warn_prf(average, modifier, msg_start, len(result))\n"
     ]
    }
   ],
   "source": [
    "f_score=[]\n",
    "recall=[]\n",
    "Test_list=[Test_set1, Test_set2, Test_set3, Test_set4, Test_set5, Test_set6,Test_set7, Test_set8,Test_set9, Test_set10]\n",
    "for testing_day in range(len(Test_list)) :\n",
    "    Test_day=pd.DataFrame(Test_list[testing_day])\n",
    "    model=load(f'./Modello/model{testing_day+1}.sav')\n",
    "    \n",
    "    X_test=Test_day.drop(['DateTime','oven', 'dishwasher', 'wahing_machine','ReactivePower','classe'],axis=1)\n",
    "    Y_test=Test_day.iloc[:,-1]\n",
    "    y_predetti=model.predict(X_test)\n",
    "    \n",
    "    r = recall_score(Y_test,y_predetti, average= None) \n",
    "    f = f1_score(Y_test,y_predetti, average= None)\n",
    "    f_score.append(f)\n",
    "    recall.append(r)\n",
    "    \n",
    "    print(\"CM:\\n\" + str(confusion_matrix(Y_test,y_predetti)) + \"\\n\")\n",
    "    print(classification_report(Y_test,y_predetti))\n",
    "    \n",
    "f_score_res=pd.DataFrame(f_score).replace(0,np.nan)\n",
    "print(\"F1_score_Class:\\n\" + str(f_score_res.mean(axis=0, skipna=True)))\n",
    "recall_res=pd.DataFrame(recall).replace(0,np.nan)\n",
    "print(\"\\nRecall_Class:\\n\" + str(recall_res.mean(axis=0, skipna=True)))"
   ]
  },
  {
   "cell_type": "code",
   "execution_count": 22,
   "id": "777ceba3",
   "metadata": {},
   "outputs": [
    {
     "name": "stdout",
     "output_type": "stream",
     "text": [
      "F1_score_Mean:\n",
      "0.8681591963245678\n",
      "\n",
      "Recall_Mean:\n",
      "0.9017412338852557\n"
     ]
    }
   ],
   "source": [
    "#f_score_res=pd.DataFrame(f_score).replace(0,np.nan)\n",
    "#print(\"F1_score_Mean:\\n\" + str((f_score_res.mean(axis=0, skipna=True)).mean()))\n",
    "#recall_res=pd.DataFrame(recall).replace(0,np.nan)\n",
    "#print(\"\\nRecall_Mean:\\n\" + str((recall_res.mean(axis=0, skipna=True)).mean()))"
   ]
  },
  {
   "cell_type": "code",
   "execution_count": 23,
   "id": "4a8136cb",
   "metadata": {},
   "outputs": [
    {
     "name": "stdout",
     "output_type": "stream",
     "text": [
      "F1_score_Class:\n",
      "0    0.986898\n",
      "1    0.867367\n",
      "2    0.741262\n",
      "3    0.877110\n",
      "dtype: float64\n",
      "\n",
      "Recall_Class:\n",
      "0    0.978671\n",
      "1    0.955010\n",
      "2    0.752239\n",
      "3    0.921045\n",
      "dtype: float64\n"
     ]
    }
   ],
   "source": [
    "#f_score_res=pd.DataFrame(f_score).replace(0,np.nan)\n",
    "#print(\"F1_score_Class:\\n\" + str(f_score_res.mean(axis=0, skipna=True)))\n",
    "#recall_res=pd.DataFrame(recall).replace(0,np.nan)\n",
    "#print(\"\\nRecall_Class:\\n\" + str(recall_res.mean(axis=0, skipna=True)))"
   ]
  },
  {
   "cell_type": "code",
   "execution_count": 33,
   "id": "53207b0d",
   "metadata": {
    "scrolled": true
   },
   "outputs": [
    {
     "data": {
      "text/html": [
       "<div>\n",
       "<style scoped>\n",
       "    .dataframe tbody tr th:only-of-type {\n",
       "        vertical-align: middle;\n",
       "    }\n",
       "\n",
       "    .dataframe tbody tr th {\n",
       "        vertical-align: top;\n",
       "    }\n",
       "\n",
       "    .dataframe thead th {\n",
       "        text-align: right;\n",
       "    }\n",
       "</style>\n",
       "<table border=\"1\" class=\"dataframe\">\n",
       "  <thead>\n",
       "    <tr style=\"text-align: right;\">\n",
       "      <th></th>\n",
       "      <th>0</th>\n",
       "      <th>1</th>\n",
       "      <th>2</th>\n",
       "      <th>3</th>\n",
       "    </tr>\n",
       "  </thead>\n",
       "  <tbody>\n",
       "    <tr>\n",
       "      <th>0</th>\n",
       "      <td>0.984572</td>\n",
       "      <td>0.930665</td>\n",
       "      <td>0.872168</td>\n",
       "      <td>NaN</td>\n",
       "    </tr>\n",
       "    <tr>\n",
       "      <th>1</th>\n",
       "      <td>0.986782</td>\n",
       "      <td>0.903721</td>\n",
       "      <td>0.916918</td>\n",
       "      <td>NaN</td>\n",
       "    </tr>\n",
       "    <tr>\n",
       "      <th>2</th>\n",
       "      <td>0.979162</td>\n",
       "      <td>0.636603</td>\n",
       "      <td>0.628239</td>\n",
       "      <td>0.786902</td>\n",
       "    </tr>\n",
       "    <tr>\n",
       "      <th>3</th>\n",
       "      <td>0.988921</td>\n",
       "      <td>NaN</td>\n",
       "      <td>0.748528</td>\n",
       "      <td>NaN</td>\n",
       "    </tr>\n",
       "    <tr>\n",
       "      <th>4</th>\n",
       "      <td>0.993156</td>\n",
       "      <td>0.900983</td>\n",
       "      <td>NaN</td>\n",
       "      <td>NaN</td>\n",
       "    </tr>\n",
       "    <tr>\n",
       "      <th>5</th>\n",
       "      <td>0.992338</td>\n",
       "      <td>NaN</td>\n",
       "      <td>NaN</td>\n",
       "      <td>0.967319</td>\n",
       "    </tr>\n",
       "    <tr>\n",
       "      <th>6</th>\n",
       "      <td>0.987198</td>\n",
       "      <td>0.887373</td>\n",
       "      <td>0.794141</td>\n",
       "      <td>NaN</td>\n",
       "    </tr>\n",
       "    <tr>\n",
       "      <th>7</th>\n",
       "      <td>0.982175</td>\n",
       "      <td>0.931485</td>\n",
       "      <td>0.409236</td>\n",
       "      <td>NaN</td>\n",
       "    </tr>\n",
       "    <tr>\n",
       "      <th>8</th>\n",
       "      <td>0.991205</td>\n",
       "      <td>0.833047</td>\n",
       "      <td>0.664045</td>\n",
       "      <td>NaN</td>\n",
       "    </tr>\n",
       "    <tr>\n",
       "      <th>9</th>\n",
       "      <td>0.983467</td>\n",
       "      <td>0.915057</td>\n",
       "      <td>0.896823</td>\n",
       "      <td>NaN</td>\n",
       "    </tr>\n",
       "  </tbody>\n",
       "</table>\n",
       "</div>"
      ],
      "text/plain": [
       "          0         1         2         3\n",
       "0  0.984572  0.930665  0.872168       NaN\n",
       "1  0.986782  0.903721  0.916918       NaN\n",
       "2  0.979162  0.636603  0.628239  0.786902\n",
       "3  0.988921       NaN  0.748528       NaN\n",
       "4  0.993156  0.900983       NaN       NaN\n",
       "5  0.992338       NaN       NaN  0.967319\n",
       "6  0.987198  0.887373  0.794141       NaN\n",
       "7  0.982175  0.931485  0.409236       NaN\n",
       "8  0.991205  0.833047  0.664045       NaN\n",
       "9  0.983467  0.915057  0.896823       NaN"
      ]
     },
     "execution_count": 33,
     "metadata": {},
     "output_type": "execute_result"
    }
   ],
   "source": [
    "f_score_res"
   ]
  },
  {
   "cell_type": "code",
   "execution_count": 29,
   "id": "0bd5b1b4",
   "metadata": {},
   "outputs": [
    {
     "data": {
      "text/plain": [
       "0    0.984572\n",
       "1    0.986782\n",
       "2    0.979162\n",
       "3    0.988921\n",
       "4    0.993156\n",
       "5    0.992338\n",
       "6    0.987198\n",
       "7    0.982175\n",
       "8    0.991205\n",
       "9    0.983467\n",
       "Name: 0, dtype: float64"
      ]
     },
     "execution_count": 29,
     "metadata": {},
     "output_type": "execute_result"
    }
   ],
   "source": [
    "all_off=f_score_res.iloc[:,0]\n",
    "all_off"
   ]
  },
  {
   "cell_type": "code",
   "execution_count": 30,
   "id": "dc736c21",
   "metadata": {},
   "outputs": [],
   "source": [
    "lavatrice=f_score_res.iloc[:,1]"
   ]
  },
  {
   "cell_type": "code",
   "execution_count": 31,
   "id": "befc4cb6",
   "metadata": {},
   "outputs": [],
   "source": [
    "forno=f_score_res.iloc[:,2]"
   ]
  },
  {
   "cell_type": "code",
   "execution_count": 32,
   "id": "d4ba7c1a",
   "metadata": {},
   "outputs": [],
   "source": [
    "lavastoviglie=f_score_res.iloc[:,3]"
   ]
  },
  {
   "cell_type": "code",
   "execution_count": 38,
   "id": "afb10d6f",
   "metadata": {},
   "outputs": [
    {
     "data": {
      "text/html": [
       "<div>\n",
       "<style scoped>\n",
       "    .dataframe tbody tr th:only-of-type {\n",
       "        vertical-align: middle;\n",
       "    }\n",
       "\n",
       "    .dataframe tbody tr th {\n",
       "        vertical-align: top;\n",
       "    }\n",
       "\n",
       "    .dataframe thead th {\n",
       "        text-align: right;\n",
       "    }\n",
       "</style>\n",
       "<table border=\"1\" class=\"dataframe\">\n",
       "  <thead>\n",
       "    <tr style=\"text-align: right;\">\n",
       "      <th></th>\n",
       "      <th>0</th>\n",
       "      <th>1</th>\n",
       "    </tr>\n",
       "  </thead>\n",
       "  <tbody>\n",
       "    <tr>\n",
       "      <th>0</th>\n",
       "      <td>0.984572</td>\n",
       "      <td>0.930665</td>\n",
       "    </tr>\n",
       "    <tr>\n",
       "      <th>1</th>\n",
       "      <td>0.986782</td>\n",
       "      <td>0.903721</td>\n",
       "    </tr>\n",
       "    <tr>\n",
       "      <th>2</th>\n",
       "      <td>0.979162</td>\n",
       "      <td>0.636603</td>\n",
       "    </tr>\n",
       "    <tr>\n",
       "      <th>3</th>\n",
       "      <td>0.988921</td>\n",
       "      <td>NaN</td>\n",
       "    </tr>\n",
       "    <tr>\n",
       "      <th>4</th>\n",
       "      <td>0.993156</td>\n",
       "      <td>0.900983</td>\n",
       "    </tr>\n",
       "    <tr>\n",
       "      <th>5</th>\n",
       "      <td>0.992338</td>\n",
       "      <td>NaN</td>\n",
       "    </tr>\n",
       "    <tr>\n",
       "      <th>6</th>\n",
       "      <td>0.987198</td>\n",
       "      <td>0.887373</td>\n",
       "    </tr>\n",
       "    <tr>\n",
       "      <th>7</th>\n",
       "      <td>0.982175</td>\n",
       "      <td>0.931485</td>\n",
       "    </tr>\n",
       "    <tr>\n",
       "      <th>8</th>\n",
       "      <td>0.991205</td>\n",
       "      <td>0.833047</td>\n",
       "    </tr>\n",
       "    <tr>\n",
       "      <th>9</th>\n",
       "      <td>0.983467</td>\n",
       "      <td>0.915057</td>\n",
       "    </tr>\n",
       "  </tbody>\n",
       "</table>\n",
       "</div>"
      ],
      "text/plain": [
       "          0         1\n",
       "0  0.984572  0.930665\n",
       "1  0.986782  0.903721\n",
       "2  0.979162  0.636603\n",
       "3  0.988921       NaN\n",
       "4  0.993156  0.900983\n",
       "5  0.992338       NaN\n",
       "6  0.987198  0.887373\n",
       "7  0.982175  0.931485\n",
       "8  0.991205  0.833047\n",
       "9  0.983467  0.915057"
      ]
     },
     "execution_count": 38,
     "metadata": {},
     "output_type": "execute_result"
    }
   ],
   "source": [
    "lavatrice_score= pd.concat([all_off, lavatrice], axis=1)\n",
    "lavatrice_score"
   ]
  },
  {
   "cell_type": "code",
   "execution_count": 40,
   "id": "1aa66342",
   "metadata": {},
   "outputs": [
    {
     "data": {
      "text/plain": [
       "0    0.957618\n",
       "1    0.945252\n",
       "2    0.807882\n",
       "3    0.988921\n",
       "4    0.947069\n",
       "5    0.992338\n",
       "6    0.937286\n",
       "7    0.956830\n",
       "8    0.912126\n",
       "9    0.949262\n",
       "dtype: float64"
      ]
     },
     "execution_count": 40,
     "metadata": {},
     "output_type": "execute_result"
    }
   ],
   "source": [
    "means_lavatrice=lavatrice_score.mean(axis=1)\n",
    "means_lavatrice"
   ]
  },
  {
   "cell_type": "code",
   "execution_count": 41,
   "id": "9c1fdd29",
   "metadata": {},
   "outputs": [],
   "source": [
    "forno_score=pd.concat([all_off, forno], axis=1)"
   ]
  },
  {
   "cell_type": "code",
   "execution_count": 43,
   "id": "28fbd7d3",
   "metadata": {},
   "outputs": [
    {
     "data": {
      "text/plain": [
       "0    0.928370\n",
       "1    0.951850\n",
       "2    0.803701\n",
       "3    0.868724\n",
       "4    0.993156\n",
       "5    0.992338\n",
       "6    0.890669\n",
       "7    0.695705\n",
       "8    0.827625\n",
       "9    0.940145\n",
       "dtype: float64"
      ]
     },
     "execution_count": 43,
     "metadata": {},
     "output_type": "execute_result"
    }
   ],
   "source": [
    "means_forno=forno_score.mean(axis=1)\n",
    "means_forno"
   ]
  },
  {
   "cell_type": "code",
   "execution_count": 44,
   "id": "51b13c1a",
   "metadata": {},
   "outputs": [],
   "source": [
    "lavastoviglie_score=pd.concat([all_off, lavastoviglie], axis=1)"
   ]
  },
  {
   "cell_type": "code",
   "execution_count": 47,
   "id": "2bd944c0",
   "metadata": {},
   "outputs": [
    {
     "data": {
      "text/plain": [
       "0    0.984572\n",
       "1    0.986782\n",
       "2    0.883032\n",
       "3    0.988921\n",
       "4    0.993156\n",
       "5    0.979828\n",
       "6    0.987198\n",
       "7    0.982175\n",
       "8    0.991205\n",
       "9    0.983467\n",
       "dtype: float64"
      ]
     },
     "execution_count": 47,
     "metadata": {},
     "output_type": "execute_result"
    }
   ],
   "source": [
    "means_lavast=lavastoviglie_score.mean(axis=1)\n",
    "means_lavast"
   ]
  },
  {
   "cell_type": "code",
   "execution_count": 48,
   "id": "6f8afbd7",
   "metadata": {},
   "outputs": [
    {
     "data": {
      "text/html": [
       "<div>\n",
       "<style scoped>\n",
       "    .dataframe tbody tr th:only-of-type {\n",
       "        vertical-align: middle;\n",
       "    }\n",
       "\n",
       "    .dataframe tbody tr th {\n",
       "        vertical-align: top;\n",
       "    }\n",
       "\n",
       "    .dataframe thead th {\n",
       "        text-align: right;\n",
       "    }\n",
       "</style>\n",
       "<table border=\"1\" class=\"dataframe\">\n",
       "  <thead>\n",
       "    <tr style=\"text-align: right;\">\n",
       "      <th></th>\n",
       "      <th>0</th>\n",
       "      <th>1</th>\n",
       "      <th>2</th>\n",
       "    </tr>\n",
       "  </thead>\n",
       "  <tbody>\n",
       "    <tr>\n",
       "      <th>0</th>\n",
       "      <td>0.957618</td>\n",
       "      <td>0.928370</td>\n",
       "      <td>0.984572</td>\n",
       "    </tr>\n",
       "    <tr>\n",
       "      <th>1</th>\n",
       "      <td>0.945252</td>\n",
       "      <td>0.951850</td>\n",
       "      <td>0.986782</td>\n",
       "    </tr>\n",
       "    <tr>\n",
       "      <th>2</th>\n",
       "      <td>0.807882</td>\n",
       "      <td>0.803701</td>\n",
       "      <td>0.883032</td>\n",
       "    </tr>\n",
       "    <tr>\n",
       "      <th>3</th>\n",
       "      <td>0.988921</td>\n",
       "      <td>0.868724</td>\n",
       "      <td>0.988921</td>\n",
       "    </tr>\n",
       "    <tr>\n",
       "      <th>4</th>\n",
       "      <td>0.947069</td>\n",
       "      <td>0.993156</td>\n",
       "      <td>0.993156</td>\n",
       "    </tr>\n",
       "    <tr>\n",
       "      <th>5</th>\n",
       "      <td>0.992338</td>\n",
       "      <td>0.992338</td>\n",
       "      <td>0.979828</td>\n",
       "    </tr>\n",
       "    <tr>\n",
       "      <th>6</th>\n",
       "      <td>0.937286</td>\n",
       "      <td>0.890669</td>\n",
       "      <td>0.987198</td>\n",
       "    </tr>\n",
       "    <tr>\n",
       "      <th>7</th>\n",
       "      <td>0.956830</td>\n",
       "      <td>0.695705</td>\n",
       "      <td>0.982175</td>\n",
       "    </tr>\n",
       "    <tr>\n",
       "      <th>8</th>\n",
       "      <td>0.912126</td>\n",
       "      <td>0.827625</td>\n",
       "      <td>0.991205</td>\n",
       "    </tr>\n",
       "    <tr>\n",
       "      <th>9</th>\n",
       "      <td>0.949262</td>\n",
       "      <td>0.940145</td>\n",
       "      <td>0.983467</td>\n",
       "    </tr>\n",
       "  </tbody>\n",
       "</table>\n",
       "</div>"
      ],
      "text/plain": [
       "          0         1         2\n",
       "0  0.957618  0.928370  0.984572\n",
       "1  0.945252  0.951850  0.986782\n",
       "2  0.807882  0.803701  0.883032\n",
       "3  0.988921  0.868724  0.988921\n",
       "4  0.947069  0.993156  0.993156\n",
       "5  0.992338  0.992338  0.979828\n",
       "6  0.937286  0.890669  0.987198\n",
       "7  0.956830  0.695705  0.982175\n",
       "8  0.912126  0.827625  0.991205\n",
       "9  0.949262  0.940145  0.983467"
      ]
     },
     "execution_count": 48,
     "metadata": {},
     "output_type": "execute_result"
    }
   ],
   "source": [
    "f_score_totale=pd.concat([ means_lavatrice,means_forno,means_lavast], axis=1)\n",
    "f_score_totale"
   ]
  },
  {
   "cell_type": "code",
   "execution_count": 50,
   "id": "84f93c8a",
   "metadata": {},
   "outputs": [
    {
     "data": {
      "text/plain": [
       "0    0.939458\n",
       "1    0.889228\n",
       "2    0.976034\n",
       "dtype: float64"
      ]
     },
     "execution_count": 50,
     "metadata": {},
     "output_type": "execute_result"
    }
   ],
   "source": [
    "f_score_media=f_score_totale.mean()\n",
    "f_score_media"
   ]
  },
  {
   "cell_type": "code",
   "execution_count": 51,
   "id": "429f53fa",
   "metadata": {},
   "outputs": [
    {
     "data": {
      "text/html": [
       "<div>\n",
       "<style scoped>\n",
       "    .dataframe tbody tr th:only-of-type {\n",
       "        vertical-align: middle;\n",
       "    }\n",
       "\n",
       "    .dataframe tbody tr th {\n",
       "        vertical-align: top;\n",
       "    }\n",
       "\n",
       "    .dataframe thead th {\n",
       "        text-align: right;\n",
       "    }\n",
       "</style>\n",
       "<table border=\"1\" class=\"dataframe\">\n",
       "  <thead>\n",
       "    <tr style=\"text-align: right;\">\n",
       "      <th></th>\n",
       "      <th>0</th>\n",
       "      <th>1</th>\n",
       "      <th>2</th>\n",
       "      <th>3</th>\n",
       "    </tr>\n",
       "  </thead>\n",
       "  <tbody>\n",
       "    <tr>\n",
       "      <th>0</th>\n",
       "      <td>0.972497</td>\n",
       "      <td>0.975327</td>\n",
       "      <td>0.790323</td>\n",
       "      <td>NaN</td>\n",
       "    </tr>\n",
       "    <tr>\n",
       "      <th>1</th>\n",
       "      <td>0.980529</td>\n",
       "      <td>0.932220</td>\n",
       "      <td>0.948353</td>\n",
       "      <td>NaN</td>\n",
       "    </tr>\n",
       "    <tr>\n",
       "      <th>2</th>\n",
       "      <td>0.964165</td>\n",
       "      <td>0.944336</td>\n",
       "      <td>0.998580</td>\n",
       "      <td>0.859938</td>\n",
       "    </tr>\n",
       "    <tr>\n",
       "      <th>3</th>\n",
       "      <td>0.982619</td>\n",
       "      <td>NaN</td>\n",
       "      <td>0.629279</td>\n",
       "      <td>NaN</td>\n",
       "    </tr>\n",
       "    <tr>\n",
       "      <th>4</th>\n",
       "      <td>0.987466</td>\n",
       "      <td>0.975716</td>\n",
       "      <td>NaN</td>\n",
       "      <td>NaN</td>\n",
       "    </tr>\n",
       "    <tr>\n",
       "      <th>5</th>\n",
       "      <td>0.985222</td>\n",
       "      <td>NaN</td>\n",
       "      <td>NaN</td>\n",
       "      <td>0.982152</td>\n",
       "    </tr>\n",
       "    <tr>\n",
       "      <th>6</th>\n",
       "      <td>0.984930</td>\n",
       "      <td>0.938306</td>\n",
       "      <td>0.694419</td>\n",
       "      <td>NaN</td>\n",
       "    </tr>\n",
       "    <tr>\n",
       "      <th>7</th>\n",
       "      <td>0.971918</td>\n",
       "      <td>0.978339</td>\n",
       "      <td>0.318859</td>\n",
       "      <td>NaN</td>\n",
       "    </tr>\n",
       "    <tr>\n",
       "      <th>8</th>\n",
       "      <td>0.986768</td>\n",
       "      <td>0.955914</td>\n",
       "      <td>0.664418</td>\n",
       "      <td>NaN</td>\n",
       "    </tr>\n",
       "    <tr>\n",
       "      <th>9</th>\n",
       "      <td>0.970590</td>\n",
       "      <td>0.939922</td>\n",
       "      <td>0.973684</td>\n",
       "      <td>NaN</td>\n",
       "    </tr>\n",
       "  </tbody>\n",
       "</table>\n",
       "</div>"
      ],
      "text/plain": [
       "          0         1         2         3\n",
       "0  0.972497  0.975327  0.790323       NaN\n",
       "1  0.980529  0.932220  0.948353       NaN\n",
       "2  0.964165  0.944336  0.998580  0.859938\n",
       "3  0.982619       NaN  0.629279       NaN\n",
       "4  0.987466  0.975716       NaN       NaN\n",
       "5  0.985222       NaN       NaN  0.982152\n",
       "6  0.984930  0.938306  0.694419       NaN\n",
       "7  0.971918  0.978339  0.318859       NaN\n",
       "8  0.986768  0.955914  0.664418       NaN\n",
       "9  0.970590  0.939922  0.973684       NaN"
      ]
     },
     "execution_count": 51,
     "metadata": {},
     "output_type": "execute_result"
    }
   ],
   "source": [
    "recall_res"
   ]
  },
  {
   "cell_type": "code",
   "execution_count": 53,
   "id": "ee27075c",
   "metadata": {},
   "outputs": [
    {
     "data": {
      "text/plain": [
       "0    0.972497\n",
       "1    0.980529\n",
       "2    0.964165\n",
       "3    0.982619\n",
       "4    0.987466\n",
       "5    0.985222\n",
       "6    0.984930\n",
       "7    0.971918\n",
       "8    0.986768\n",
       "9    0.970590\n",
       "Name: 0, dtype: float64"
      ]
     },
     "execution_count": 53,
     "metadata": {},
     "output_type": "execute_result"
    }
   ],
   "source": [
    "all_off_recall=recall_res.iloc[:,0]\n",
    "all_off_recall"
   ]
  },
  {
   "cell_type": "code",
   "execution_count": 54,
   "id": "99b4268e",
   "metadata": {},
   "outputs": [],
   "source": [
    "lavatrice_rec=recall_res.iloc[:,1]"
   ]
  },
  {
   "cell_type": "code",
   "execution_count": 55,
   "id": "c14bc590",
   "metadata": {},
   "outputs": [],
   "source": [
    "forno_rec=recall_res.iloc[:,2]"
   ]
  },
  {
   "cell_type": "code",
   "execution_count": 56,
   "id": "37ad5623",
   "metadata": {},
   "outputs": [],
   "source": [
    "lavast_rec=recall_res.iloc[:,3]"
   ]
  },
  {
   "cell_type": "code",
   "execution_count": 57,
   "id": "9cab6aef",
   "metadata": {},
   "outputs": [
    {
     "data": {
      "text/html": [
       "<div>\n",
       "<style scoped>\n",
       "    .dataframe tbody tr th:only-of-type {\n",
       "        vertical-align: middle;\n",
       "    }\n",
       "\n",
       "    .dataframe tbody tr th {\n",
       "        vertical-align: top;\n",
       "    }\n",
       "\n",
       "    .dataframe thead th {\n",
       "        text-align: right;\n",
       "    }\n",
       "</style>\n",
       "<table border=\"1\" class=\"dataframe\">\n",
       "  <thead>\n",
       "    <tr style=\"text-align: right;\">\n",
       "      <th></th>\n",
       "      <th>0</th>\n",
       "      <th>1</th>\n",
       "    </tr>\n",
       "  </thead>\n",
       "  <tbody>\n",
       "    <tr>\n",
       "      <th>0</th>\n",
       "      <td>0.972497</td>\n",
       "      <td>0.975327</td>\n",
       "    </tr>\n",
       "    <tr>\n",
       "      <th>1</th>\n",
       "      <td>0.980529</td>\n",
       "      <td>0.932220</td>\n",
       "    </tr>\n",
       "    <tr>\n",
       "      <th>2</th>\n",
       "      <td>0.964165</td>\n",
       "      <td>0.944336</td>\n",
       "    </tr>\n",
       "    <tr>\n",
       "      <th>3</th>\n",
       "      <td>0.982619</td>\n",
       "      <td>NaN</td>\n",
       "    </tr>\n",
       "    <tr>\n",
       "      <th>4</th>\n",
       "      <td>0.987466</td>\n",
       "      <td>0.975716</td>\n",
       "    </tr>\n",
       "    <tr>\n",
       "      <th>5</th>\n",
       "      <td>0.985222</td>\n",
       "      <td>NaN</td>\n",
       "    </tr>\n",
       "    <tr>\n",
       "      <th>6</th>\n",
       "      <td>0.984930</td>\n",
       "      <td>0.938306</td>\n",
       "    </tr>\n",
       "    <tr>\n",
       "      <th>7</th>\n",
       "      <td>0.971918</td>\n",
       "      <td>0.978339</td>\n",
       "    </tr>\n",
       "    <tr>\n",
       "      <th>8</th>\n",
       "      <td>0.986768</td>\n",
       "      <td>0.955914</td>\n",
       "    </tr>\n",
       "    <tr>\n",
       "      <th>9</th>\n",
       "      <td>0.970590</td>\n",
       "      <td>0.939922</td>\n",
       "    </tr>\n",
       "  </tbody>\n",
       "</table>\n",
       "</div>"
      ],
      "text/plain": [
       "          0         1\n",
       "0  0.972497  0.975327\n",
       "1  0.980529  0.932220\n",
       "2  0.964165  0.944336\n",
       "3  0.982619       NaN\n",
       "4  0.987466  0.975716\n",
       "5  0.985222       NaN\n",
       "6  0.984930  0.938306\n",
       "7  0.971918  0.978339\n",
       "8  0.986768  0.955914\n",
       "9  0.970590  0.939922"
      ]
     },
     "execution_count": 57,
     "metadata": {},
     "output_type": "execute_result"
    }
   ],
   "source": [
    "lavatrice_rec= pd.concat([all_off_recall, lavatrice_rec], axis=1)\n",
    "lavatrice_rec"
   ]
  },
  {
   "cell_type": "code",
   "execution_count": 58,
   "id": "b84139da",
   "metadata": {},
   "outputs": [
    {
     "data": {
      "text/html": [
       "<div>\n",
       "<style scoped>\n",
       "    .dataframe tbody tr th:only-of-type {\n",
       "        vertical-align: middle;\n",
       "    }\n",
       "\n",
       "    .dataframe tbody tr th {\n",
       "        vertical-align: top;\n",
       "    }\n",
       "\n",
       "    .dataframe thead th {\n",
       "        text-align: right;\n",
       "    }\n",
       "</style>\n",
       "<table border=\"1\" class=\"dataframe\">\n",
       "  <thead>\n",
       "    <tr style=\"text-align: right;\">\n",
       "      <th></th>\n",
       "      <th>0</th>\n",
       "      <th>2</th>\n",
       "    </tr>\n",
       "  </thead>\n",
       "  <tbody>\n",
       "    <tr>\n",
       "      <th>0</th>\n",
       "      <td>0.972497</td>\n",
       "      <td>0.790323</td>\n",
       "    </tr>\n",
       "    <tr>\n",
       "      <th>1</th>\n",
       "      <td>0.980529</td>\n",
       "      <td>0.948353</td>\n",
       "    </tr>\n",
       "    <tr>\n",
       "      <th>2</th>\n",
       "      <td>0.964165</td>\n",
       "      <td>0.998580</td>\n",
       "    </tr>\n",
       "    <tr>\n",
       "      <th>3</th>\n",
       "      <td>0.982619</td>\n",
       "      <td>0.629279</td>\n",
       "    </tr>\n",
       "    <tr>\n",
       "      <th>4</th>\n",
       "      <td>0.987466</td>\n",
       "      <td>NaN</td>\n",
       "    </tr>\n",
       "    <tr>\n",
       "      <th>5</th>\n",
       "      <td>0.985222</td>\n",
       "      <td>NaN</td>\n",
       "    </tr>\n",
       "    <tr>\n",
       "      <th>6</th>\n",
       "      <td>0.984930</td>\n",
       "      <td>0.694419</td>\n",
       "    </tr>\n",
       "    <tr>\n",
       "      <th>7</th>\n",
       "      <td>0.971918</td>\n",
       "      <td>0.318859</td>\n",
       "    </tr>\n",
       "    <tr>\n",
       "      <th>8</th>\n",
       "      <td>0.986768</td>\n",
       "      <td>0.664418</td>\n",
       "    </tr>\n",
       "    <tr>\n",
       "      <th>9</th>\n",
       "      <td>0.970590</td>\n",
       "      <td>0.973684</td>\n",
       "    </tr>\n",
       "  </tbody>\n",
       "</table>\n",
       "</div>"
      ],
      "text/plain": [
       "          0         2\n",
       "0  0.972497  0.790323\n",
       "1  0.980529  0.948353\n",
       "2  0.964165  0.998580\n",
       "3  0.982619  0.629279\n",
       "4  0.987466       NaN\n",
       "5  0.985222       NaN\n",
       "6  0.984930  0.694419\n",
       "7  0.971918  0.318859\n",
       "8  0.986768  0.664418\n",
       "9  0.970590  0.973684"
      ]
     },
     "execution_count": 58,
     "metadata": {},
     "output_type": "execute_result"
    }
   ],
   "source": [
    "forno_recall= pd.concat([all_off_recall, forno_rec], axis=1)\n",
    "forno_recall"
   ]
  },
  {
   "cell_type": "code",
   "execution_count": 59,
   "id": "74d44ca8",
   "metadata": {},
   "outputs": [
    {
     "data": {
      "text/html": [
       "<div>\n",
       "<style scoped>\n",
       "    .dataframe tbody tr th:only-of-type {\n",
       "        vertical-align: middle;\n",
       "    }\n",
       "\n",
       "    .dataframe tbody tr th {\n",
       "        vertical-align: top;\n",
       "    }\n",
       "\n",
       "    .dataframe thead th {\n",
       "        text-align: right;\n",
       "    }\n",
       "</style>\n",
       "<table border=\"1\" class=\"dataframe\">\n",
       "  <thead>\n",
       "    <tr style=\"text-align: right;\">\n",
       "      <th></th>\n",
       "      <th>0</th>\n",
       "      <th>3</th>\n",
       "    </tr>\n",
       "  </thead>\n",
       "  <tbody>\n",
       "    <tr>\n",
       "      <th>0</th>\n",
       "      <td>0.972497</td>\n",
       "      <td>NaN</td>\n",
       "    </tr>\n",
       "    <tr>\n",
       "      <th>1</th>\n",
       "      <td>0.980529</td>\n",
       "      <td>NaN</td>\n",
       "    </tr>\n",
       "    <tr>\n",
       "      <th>2</th>\n",
       "      <td>0.964165</td>\n",
       "      <td>0.859938</td>\n",
       "    </tr>\n",
       "    <tr>\n",
       "      <th>3</th>\n",
       "      <td>0.982619</td>\n",
       "      <td>NaN</td>\n",
       "    </tr>\n",
       "    <tr>\n",
       "      <th>4</th>\n",
       "      <td>0.987466</td>\n",
       "      <td>NaN</td>\n",
       "    </tr>\n",
       "    <tr>\n",
       "      <th>5</th>\n",
       "      <td>0.985222</td>\n",
       "      <td>0.982152</td>\n",
       "    </tr>\n",
       "    <tr>\n",
       "      <th>6</th>\n",
       "      <td>0.984930</td>\n",
       "      <td>NaN</td>\n",
       "    </tr>\n",
       "    <tr>\n",
       "      <th>7</th>\n",
       "      <td>0.971918</td>\n",
       "      <td>NaN</td>\n",
       "    </tr>\n",
       "    <tr>\n",
       "      <th>8</th>\n",
       "      <td>0.986768</td>\n",
       "      <td>NaN</td>\n",
       "    </tr>\n",
       "    <tr>\n",
       "      <th>9</th>\n",
       "      <td>0.970590</td>\n",
       "      <td>NaN</td>\n",
       "    </tr>\n",
       "  </tbody>\n",
       "</table>\n",
       "</div>"
      ],
      "text/plain": [
       "          0         3\n",
       "0  0.972497       NaN\n",
       "1  0.980529       NaN\n",
       "2  0.964165  0.859938\n",
       "3  0.982619       NaN\n",
       "4  0.987466       NaN\n",
       "5  0.985222  0.982152\n",
       "6  0.984930       NaN\n",
       "7  0.971918       NaN\n",
       "8  0.986768       NaN\n",
       "9  0.970590       NaN"
      ]
     },
     "execution_count": 59,
     "metadata": {},
     "output_type": "execute_result"
    }
   ],
   "source": [
    "lavastoviglie_recall=pd.concat([all_off_recall, lavast_rec], axis=1)\n",
    "lavastoviglie_recall"
   ]
  },
  {
   "cell_type": "code",
   "execution_count": 60,
   "id": "a7d6ffc0",
   "metadata": {},
   "outputs": [
    {
     "data": {
      "text/plain": [
       "0    0.973912\n",
       "1    0.956375\n",
       "2    0.954251\n",
       "3    0.982619\n",
       "4    0.981591\n",
       "5    0.985222\n",
       "6    0.961618\n",
       "7    0.975128\n",
       "8    0.971341\n",
       "9    0.955256\n",
       "dtype: float64"
      ]
     },
     "execution_count": 60,
     "metadata": {},
     "output_type": "execute_result"
    }
   ],
   "source": [
    "means_lavatrice_rec=lavatrice_rec.mean(axis=1)\n",
    "means_lavatrice_rec"
   ]
  },
  {
   "cell_type": "code",
   "execution_count": 61,
   "id": "275ffe7c",
   "metadata": {},
   "outputs": [
    {
     "data": {
      "text/plain": [
       "0    0.881410\n",
       "1    0.964441\n",
       "2    0.981373\n",
       "3    0.805949\n",
       "4    0.987466\n",
       "5    0.985222\n",
       "6    0.839675\n",
       "7    0.645388\n",
       "8    0.825593\n",
       "9    0.972137\n",
       "dtype: float64"
      ]
     },
     "execution_count": 61,
     "metadata": {},
     "output_type": "execute_result"
    }
   ],
   "source": [
    "means_forno_rec=forno_recall.mean(axis=1)\n",
    "means_forno_rec"
   ]
  },
  {
   "cell_type": "code",
   "execution_count": 62,
   "id": "1c0a56f5",
   "metadata": {},
   "outputs": [
    {
     "data": {
      "text/plain": [
       "0    0.972497\n",
       "1    0.980529\n",
       "2    0.912052\n",
       "3    0.982619\n",
       "4    0.987466\n",
       "5    0.983687\n",
       "6    0.984930\n",
       "7    0.971918\n",
       "8    0.986768\n",
       "9    0.970590\n",
       "dtype: float64"
      ]
     },
     "execution_count": 62,
     "metadata": {},
     "output_type": "execute_result"
    }
   ],
   "source": [
    "means_lavastoviglie_rec=lavastoviglie_recall.mean(axis=1)\n",
    "means_lavastoviglie_rec"
   ]
  },
  {
   "cell_type": "code",
   "execution_count": 63,
   "id": "84484681",
   "metadata": {},
   "outputs": [
    {
     "data": {
      "text/html": [
       "<div>\n",
       "<style scoped>\n",
       "    .dataframe tbody tr th:only-of-type {\n",
       "        vertical-align: middle;\n",
       "    }\n",
       "\n",
       "    .dataframe tbody tr th {\n",
       "        vertical-align: top;\n",
       "    }\n",
       "\n",
       "    .dataframe thead th {\n",
       "        text-align: right;\n",
       "    }\n",
       "</style>\n",
       "<table border=\"1\" class=\"dataframe\">\n",
       "  <thead>\n",
       "    <tr style=\"text-align: right;\">\n",
       "      <th></th>\n",
       "      <th>0</th>\n",
       "      <th>1</th>\n",
       "      <th>2</th>\n",
       "    </tr>\n",
       "  </thead>\n",
       "  <tbody>\n",
       "    <tr>\n",
       "      <th>0</th>\n",
       "      <td>0.973912</td>\n",
       "      <td>0.881410</td>\n",
       "      <td>0.972497</td>\n",
       "    </tr>\n",
       "    <tr>\n",
       "      <th>1</th>\n",
       "      <td>0.956375</td>\n",
       "      <td>0.964441</td>\n",
       "      <td>0.980529</td>\n",
       "    </tr>\n",
       "    <tr>\n",
       "      <th>2</th>\n",
       "      <td>0.954251</td>\n",
       "      <td>0.981373</td>\n",
       "      <td>0.912052</td>\n",
       "    </tr>\n",
       "    <tr>\n",
       "      <th>3</th>\n",
       "      <td>0.982619</td>\n",
       "      <td>0.805949</td>\n",
       "      <td>0.982619</td>\n",
       "    </tr>\n",
       "    <tr>\n",
       "      <th>4</th>\n",
       "      <td>0.981591</td>\n",
       "      <td>0.987466</td>\n",
       "      <td>0.987466</td>\n",
       "    </tr>\n",
       "    <tr>\n",
       "      <th>5</th>\n",
       "      <td>0.985222</td>\n",
       "      <td>0.985222</td>\n",
       "      <td>0.983687</td>\n",
       "    </tr>\n",
       "    <tr>\n",
       "      <th>6</th>\n",
       "      <td>0.961618</td>\n",
       "      <td>0.839675</td>\n",
       "      <td>0.984930</td>\n",
       "    </tr>\n",
       "    <tr>\n",
       "      <th>7</th>\n",
       "      <td>0.975128</td>\n",
       "      <td>0.645388</td>\n",
       "      <td>0.971918</td>\n",
       "    </tr>\n",
       "    <tr>\n",
       "      <th>8</th>\n",
       "      <td>0.971341</td>\n",
       "      <td>0.825593</td>\n",
       "      <td>0.986768</td>\n",
       "    </tr>\n",
       "    <tr>\n",
       "      <th>9</th>\n",
       "      <td>0.955256</td>\n",
       "      <td>0.972137</td>\n",
       "      <td>0.970590</td>\n",
       "    </tr>\n",
       "  </tbody>\n",
       "</table>\n",
       "</div>"
      ],
      "text/plain": [
       "          0         1         2\n",
       "0  0.973912  0.881410  0.972497\n",
       "1  0.956375  0.964441  0.980529\n",
       "2  0.954251  0.981373  0.912052\n",
       "3  0.982619  0.805949  0.982619\n",
       "4  0.981591  0.987466  0.987466\n",
       "5  0.985222  0.985222  0.983687\n",
       "6  0.961618  0.839675  0.984930\n",
       "7  0.975128  0.645388  0.971918\n",
       "8  0.971341  0.825593  0.986768\n",
       "9  0.955256  0.972137  0.970590"
      ]
     },
     "execution_count": 63,
     "metadata": {},
     "output_type": "execute_result"
    }
   ],
   "source": [
    "recall_totale=pd.concat([ means_lavatrice_rec,means_forno_rec,means_lavastoviglie_rec], axis=1)\n",
    "recall_totale"
   ]
  },
  {
   "cell_type": "code",
   "execution_count": 64,
   "id": "fef98fa2",
   "metadata": {},
   "outputs": [
    {
     "data": {
      "text/plain": [
       "0    0.969731\n",
       "1    0.888865\n",
       "2    0.973306\n",
       "dtype: float64"
      ]
     },
     "execution_count": 64,
     "metadata": {},
     "output_type": "execute_result"
    }
   ],
   "source": [
    "recall_media=recall_totale.mean()\n",
    "recall_media"
   ]
  },
  {
   "cell_type": "code",
   "execution_count": 67,
   "id": "dafcd68c",
   "metadata": {},
   "outputs": [
    {
     "data": {
      "text/plain": [
       "0    0.939458\n",
       "1    0.889228\n",
       "2    0.976034\n",
       "dtype: float64"
      ]
     },
     "execution_count": 67,
     "metadata": {},
     "output_type": "execute_result"
    }
   ],
   "source": [
    "f_score_media"
   ]
  },
  {
   "cell_type": "code",
   "execution_count": 65,
   "id": "ceacb7a8",
   "metadata": {},
   "outputs": [
    {
     "data": {
      "text/plain": [
       "0.9439674443884579"
      ]
     },
     "execution_count": 65,
     "metadata": {},
     "output_type": "execute_result"
    }
   ],
   "source": [
    "recall_media_tot=recall_media.mean()\n",
    "recall_media_tot"
   ]
  },
  {
   "cell_type": "code",
   "execution_count": 66,
   "id": "338e3f68",
   "metadata": {},
   "outputs": [
    {
     "data": {
      "text/plain": [
       "0.9349067651331041"
      ]
     },
     "execution_count": 66,
     "metadata": {},
     "output_type": "execute_result"
    }
   ],
   "source": [
    "f_score_media_tot=f_score_media.mean()\n",
    "f_score_media_tot"
   ]
  }
 ],
 "metadata": {
  "kernelspec": {
   "display_name": "Python 3",
   "language": "python",
   "name": "python3"
  },
  "language_info": {
   "codemirror_mode": {
    "name": "ipython",
    "version": 3
   },
   "file_extension": ".py",
   "mimetype": "text/x-python",
   "name": "python",
   "nbconvert_exporter": "python",
   "pygments_lexer": "ipython3",
   "version": "3.8.8"
  }
 },
 "nbformat": 4,
 "nbformat_minor": 5
}
